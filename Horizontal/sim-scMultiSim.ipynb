{
 "cells": [
  {
   "cell_type": "code",
   "execution_count": 12,
   "id": "cbbfe206-e1ef-4ea2-89d6-ee938605a9ed",
   "metadata": {},
   "outputs": [
    {
     "name": "stdout",
     "output_type": "stream",
     "text": [
      "Generating simulation: sim-enhanced \n"
     ]
    },
    {
     "name": "stderr",
     "output_type": "stream",
     "text": [
      "Experimental speed optimization enabled.\n",
      "\n"
     ]
    },
    {
     "name": "stdout",
     "output_type": "stream",
     "text": [
      "CCI simulation is enabled.\n"
     ]
    },
    {
     "name": "stderr",
     "output_type": "stream",
     "text": [
      "Spatial: only the last layer will be simulated.\n",
      "\n"
     ]
    },
    {
     "name": "stdout",
     "output_type": "stream",
     "text": [
      "Get CIF...100..200..300..400..500..Done\n",
      "Get params...Done\n",
      "Simulating...500..\n",
      "Time spent: 0.50 mins\n",
      "Adding experimental noise...\n",
      "50..100..150..200..250..300..350..400..450..500..Using atac_counts\n"
     ]
    },
    {
     "name": "stderr",
     "output_type": "stream",
     "text": [
      "Time spent: 0.91 mins\n",
      "\n",
      "\n"
     ]
    },
    {
     "name": "stdout",
     "output_type": "stream",
     "text": [
      "Adding batch effects...\n",
      "Simulation completed and saved to: /home/project/11003054/changxu/Projects/DIRAC/Section-4/scMultiSim_data/sim-enhanced \n"
     ]
    }
   ],
   "source": [
    "library(scMultiSim)\n",
    "library(dplyr)\n",
    "library(reticulate)  # For Python integration to save .h5ad\n",
    "\n",
    "# Load Python's anndata package (must be installed in your Python env)\n",
    "anndata <- import(\"anndata\")\n",
    "\n",
    "# Load GRN parameters\n",
    "data(GRN_params_100, envir = environment())\n",
    "\n",
    "# Ligand parameters\n",
    "lig_params <- data.frame(\n",
    "  target    = c(101, 102),\n",
    "  regulator = c(103, 104),\n",
    "  effect    = c(5.2, 5.9)\n",
    ")\n",
    "\n",
    "# Spatial options\n",
    "spatial_options <- function(cell_count, layout_type) {\n",
    "  cci_opt <- list(\n",
    "    params = lig_params,\n",
    "    max.neighbors = 6,\n",
    "    start.layer = cell_count,\n",
    "    grid.size = 256,\n",
    "    cell.type.interaction = \"random\"\n",
    "  )\n",
    "  list(\n",
    "    rand.seed = 0,\n",
    "    GRN = GRN_params_100,\n",
    "    num.cells = cell_count,\n",
    "    num.cifs = 60,\n",
    "    num.genes = 200,\n",
    "    cif.sigma = 0.6,\n",
    "    tree = Phyla5(),\n",
    "    diff.cif.fraction = 0.9,\n",
    "    speed.up = TRUE,\n",
    "    cci = c(cci_opt, list(layout = layout_type))\n",
    "  )\n",
    "}\n",
    "\n",
    "# Save function\n",
    "save_results <- function(results, dir_path, sim_name) {\n",
    "  if (!dir.exists(dir_path)) {\n",
    "    dir.create(dir_path, recursive = TRUE)\n",
    "  }\n",
    "\n",
    "  write.csv(results$counts, file = file.path(dir_path, \"rna_counts.csv\"), row.names = TRUE)\n",
    "  write.csv(results$atacseq_data, file = file.path(dir_path, \"atac_counts.csv\"), row.names = TRUE)\n",
    "  write.csv(results$cci_locs, file = file.path(dir_path, \"cci_locs.csv\"), row.names = TRUE)\n",
    "  write.csv(results$cell_meta, file = file.path(dir_path, \"cell_meta.csv\"), row.names = TRUE)\n",
    "\n",
    "  pdf(file.path(dir_path, \"tsne_plot.pdf\"), width = 8, height = 6)\n",
    "  plot_tsne(log2(results$counts + 1),\n",
    "           results$cell_meta$pop,\n",
    "           legend = 'pop', plot.name = paste('True RNA Counts Tsne -', sim_name))\n",
    "  dev.off()\n",
    "\n",
    "  pdf(file.path(dir_path, \"correlation_heatmap.pdf\"), width = 8, height = 6)\n",
    "  plot_gene_module_cor_heatmap(results)\n",
    "  dev.off()\n",
    "\n",
    "  pdf(file.path(dir_path, \"spatial_distribution.pdf\"), width = 8, height = 6)\n",
    "  plot_cell_loc(results, show.arrows = FALSE)\n",
    "  dev.off()\n",
    "\n",
    "  spatial_coords <- as.matrix(results$cci_locs)\n",
    "  rownames(spatial_coords) <- rownames(results$cell_meta)\n",
    "\n",
    "  adata_rna <- anndata$AnnData(\n",
    "    X = t(results$counts),\n",
    "    obs = results$cell_meta,\n",
    "    obsm = list(spatial = spatial_coords)\n",
    "  )\n",
    "  adata_rna$write(file.path(dir_path, \"sim_RNA.h5ad\"))\n",
    "\n",
    "  if (!is.null(results$atac_counts)) {\n",
    "    adata_atac <- anndata$AnnData(\n",
    "      X = t(results$atac_counts),\n",
    "      obs = results$cell_meta,\n",
    "      obsm = list(spatial = spatial_coords)\n",
    "    )\n",
    "    adata_atac$write(file.path(dir_path, \"sim_ATAC.h5ad\"))\n",
    "  }\n",
    "}\n",
    "\n",
    "# ==== Only generate one dataset ====\n",
    "\n",
    "# Set parameters\n",
    "cell_count <- 50000\n",
    "layout_type <- \"enhanced\"\n",
    "sim_name <- \"sim-enhanced\"\n",
    "dir_path <- file.path(\"/home/project/11003054/changxu/Projects/DIRAC/Section-4/scMultiSim_data\", sim_name)\n",
    "\n",
    "cat(\"Generating simulation:\", sim_name, \"\\n\")\n",
    "\n",
    "results <- sim_true_counts(spatial_options(cell_count, layout_type))\n",
    "add_expr_noise(results, alpha_mean = 1e3)\n",
    "divide_batches(results, nbatch = 10, effect = 5)\n",
    "save_results(results, dir_path, sim_name)\n",
    "\n",
    "cat(\"Simulation completed and saved to:\", dir_path, \"\\n\")\n"
   ]
  },
  {
   "cell_type": "code",
   "execution_count": 13,
   "id": "9c56655e-4bdb-44c8-9327-926705b03bb7",
   "metadata": {},
   "outputs": [
    {
     "name": "stdout",
     "output_type": "stream",
     "text": [
      "Generating simulation: sim-layers \n"
     ]
    },
    {
     "name": "stderr",
     "output_type": "stream",
     "text": [
      "Experimental speed optimization enabled.\n",
      "\n"
     ]
    },
    {
     "name": "stdout",
     "output_type": "stream",
     "text": [
      "CCI simulation is enabled.\n"
     ]
    },
    {
     "name": "stderr",
     "output_type": "stream",
     "text": [
      "Spatial: only the last layer will be simulated.\n",
      "\n"
     ]
    },
    {
     "name": "stdout",
     "output_type": "stream",
     "text": [
      "Get CIF...100..200..300..400..500..Done\n",
      "Get params...Done\n",
      "Simulating...500..\n",
      "Time spent: 0.50 mins\n",
      "Adding experimental noise...\n",
      "50..100..150..200..250..300..350..400..450..500..Using atac_counts\n"
     ]
    },
    {
     "name": "stderr",
     "output_type": "stream",
     "text": [
      "Time spent: 1.13 mins\n",
      "\n",
      "\n"
     ]
    },
    {
     "name": "stdout",
     "output_type": "stream",
     "text": [
      "Adding batch effects...\n",
      "Simulation completed and saved to: /home/project/11003054/changxu/Projects/DIRAC/Section-4/scMultiSim_data/sim-layers \n"
     ]
    }
   ],
   "source": [
    "library(scMultiSim)\n",
    "library(dplyr)\n",
    "library(reticulate)  # For Python integration to save .h5ad\n",
    "\n",
    "# Load Python's anndata package (must be installed in your Python env)\n",
    "anndata <- import(\"anndata\")\n",
    "\n",
    "# Load GRN parameters\n",
    "data(GRN_params_100, envir = environment())\n",
    "\n",
    "# Ligand parameters\n",
    "lig_params <- data.frame(\n",
    "  target    = c(101, 102),\n",
    "  regulator = c(103, 104),\n",
    "  effect    = c(5.2, 5.9)\n",
    ")\n",
    "\n",
    "# Spatial options\n",
    "spatial_options <- function(cell_count, layout_type) {\n",
    "  cci_opt <- list(\n",
    "    params = lig_params,\n",
    "    max.neighbors = 6,\n",
    "    start.layer = cell_count,\n",
    "    grid.size = 256,\n",
    "    cell.type.interaction = \"random\"\n",
    "  )\n",
    "  list(\n",
    "    rand.seed = 0,\n",
    "    GRN = GRN_params_100,\n",
    "    num.cells = cell_count,\n",
    "    num.cifs = 60,\n",
    "    num.genes = 200,\n",
    "    cif.sigma = 0.6,\n",
    "    tree = Phyla5(),\n",
    "    diff.cif.fraction = 0.9,\n",
    "    speed.up = TRUE,\n",
    "    cci = c(cci_opt, list(layout = layout_type))\n",
    "  )\n",
    "}\n",
    "\n",
    "# Save function\n",
    "save_results <- function(results, dir_path, sim_name) {\n",
    "  if (!dir.exists(dir_path)) {\n",
    "    dir.create(dir_path, recursive = TRUE)\n",
    "  }\n",
    "\n",
    "  write.csv(results$counts, file = file.path(dir_path, \"rna_counts.csv\"), row.names = TRUE)\n",
    "  write.csv(results$atac_counts, file = file.path(dir_path, \"atac_counts.csv\"), row.names = TRUE)\n",
    "  write.csv(results$cci_locs, file = file.path(dir_path, \"cci_locs.csv\"), row.names = TRUE)\n",
    "  write.csv(results$cell_meta, file = file.path(dir_path, \"cell_meta.csv\"), row.names = TRUE)\n",
    "\n",
    "  pdf(file.path(dir_path, \"tsne_plot.pdf\"), width = 8, height = 6)\n",
    "  plot_tsne(log2(results$counts + 1),\n",
    "           results$cell_meta$pop,\n",
    "           legend = 'pop', plot.name = paste('True RNA Counts Tsne -', sim_name))\n",
    "  dev.off()\n",
    "\n",
    "  pdf(file.path(dir_path, \"correlation_heatmap.pdf\"), width = 8, height = 6)\n",
    "  plot_gene_module_cor_heatmap(results)\n",
    "  dev.off()\n",
    "\n",
    "  pdf(file.path(dir_path, \"spatial_distribution.pdf\"), width = 8, height = 6)\n",
    "  plot_cell_loc(results, show.arrows = FALSE)\n",
    "  dev.off()\n",
    "\n",
    "  spatial_coords <- as.matrix(results$cci_locs)\n",
    "  rownames(spatial_coords) <- rownames(results$cell_meta)\n",
    "\n",
    "  adata_rna <- anndata$AnnData(\n",
    "    X = t(results$counts),\n",
    "    obs = results$cell_meta,\n",
    "    obsm = list(spatial = spatial_coords)\n",
    "  )\n",
    "  adata_rna$write(file.path(dir_path, \"sim_RNA.h5ad\"))\n",
    "\n",
    "  if (!is.null(results$atac_counts)) {\n",
    "    adata_atac <- anndata$AnnData(\n",
    "      X = t(results$atacseq_data),\n",
    "      obs = results$cell_meta,\n",
    "      obsm = list(spatial = spatial_coords)\n",
    "    )\n",
    "    adata_atac$write(file.path(dir_path, \"sim_ATAC.h5ad\"))\n",
    "  }\n",
    "}\n",
    "\n",
    "# ==== Only generate one dataset ====\n",
    "\n",
    "# Set parameters\n",
    "cell_count <- 50000\n",
    "layout_type <- \"layers\"\n",
    "sim_name <- \"sim-layers\"\n",
    "dir_path <- file.path(\"/home/project/11003054/changxu/Projects/DIRAC/Section-4/scMultiSim_data\", sim_name)\n",
    "\n",
    "cat(\"Generating simulation:\", sim_name, \"\\n\")\n",
    "\n",
    "results <- sim_true_counts(spatial_options(cell_count, layout_type))\n",
    "add_expr_noise(results, alpha_mean = 1e3)\n",
    "divide_batches(results, nbatch = 10, effect = 5)\n",
    "save_results(results, dir_path, sim_name)\n",
    "\n",
    "cat(\"Simulation completed and saved to:\", dir_path, \"\\n\")\n"
   ]
  },
  {
   "cell_type": "code",
   "execution_count": null,
   "id": "7efb8094-4d47-4148-82e7-85eb99188a3c",
   "metadata": {},
   "outputs": [],
   "source": []
  }
 ],
 "metadata": {
  "kernelspec": {
   "display_name": "R (r-env)",
   "language": "R",
   "name": "r"
  },
  "language_info": {
   "codemirror_mode": "r",
   "file_extension": ".r",
   "mimetype": "text/x-r-source",
   "name": "R",
   "pygments_lexer": "r",
   "version": "4.3.3"
  }
 },
 "nbformat": 4,
 "nbformat_minor": 5
}
