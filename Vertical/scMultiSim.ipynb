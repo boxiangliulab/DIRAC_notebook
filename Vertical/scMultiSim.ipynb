{
 "cells": [
  {
   "cell_type": "code",
   "execution_count": 1,
   "id": "433b8ff6-a8aa-4e4d-bc64-52037004f668",
   "metadata": {},
   "outputs": [
    {
     "name": "stderr",
     "output_type": "stream",
     "text": [
      "\n",
      "Attaching package: ‘dplyr’\n",
      "\n",
      "\n",
      "The following objects are masked from ‘package:stats’:\n",
      "\n",
      "    filter, lag\n",
      "\n",
      "\n",
      "The following objects are masked from ‘package:base’:\n",
      "\n",
      "    intersect, setdiff, setequal, union\n",
      "\n",
      "\n"
     ]
    },
    {
     "name": "stdout",
     "output_type": "stream",
     "text": [
      "Generating simulation: sim_1 \n"
     ]
    },
    {
     "name": "stderr",
     "output_type": "stream",
     "text": [
      "Experimental speed optimization enabled.\n",
      "\n"
     ]
    },
    {
     "name": "stdout",
     "output_type": "stream",
     "text": [
      "CCI simulation is enabled.\n"
     ]
    },
    {
     "name": "stderr",
     "output_type": "stream",
     "text": [
      "Spatial: only the last layer will be simulated.\n",
      "\n"
     ]
    },
    {
     "name": "stdout",
     "output_type": "stream",
     "text": [
      "Get CIF...100..200..300..400..500..Done\n",
      "Get params...Done\n",
      "Simulating...500..\n",
      "Time spent: 0.61 mins\n",
      "Adding experimental noise...\n",
      "50..100..150..200..250..300..350..400..450..500..Using atac_counts\n"
     ]
    },
    {
     "name": "stderr",
     "output_type": "stream",
     "text": [
      "Time spent: 1.07 mins\n",
      "\n",
      "\n"
     ]
    },
    {
     "name": "stdout",
     "output_type": "stream",
     "text": [
      "Adding batch effects...\n",
      "Generating simulation: sim_2 \n"
     ]
    },
    {
     "name": "stderr",
     "output_type": "stream",
     "text": [
      "Experimental speed optimization enabled.\n",
      "\n"
     ]
    },
    {
     "name": "stdout",
     "output_type": "stream",
     "text": [
      "CCI simulation is enabled.\n"
     ]
    },
    {
     "name": "stderr",
     "output_type": "stream",
     "text": [
      "Spatial: only the last layer will be simulated.\n",
      "\n"
     ]
    },
    {
     "name": "stdout",
     "output_type": "stream",
     "text": [
      "Get CIF...100..200..300..400..500..600..700..800..900..1000..Done\n",
      "Get params...Done\n",
      "Simulating...1000..\n",
      "Time spent: 1.21 mins\n",
      "Adding experimental noise...\n",
      "50..100..150..200..250..300..350..400..450..500..550..600..650..700..750..800..850..900..950..1000..Using atac_counts\n"
     ]
    },
    {
     "name": "stderr",
     "output_type": "stream",
     "text": [
      "Time spent: 1.61 mins\n",
      "\n",
      "\n"
     ]
    },
    {
     "name": "stdout",
     "output_type": "stream",
     "text": [
      "Adding batch effects...\n",
      "Generating simulation: sim_3 \n"
     ]
    },
    {
     "name": "stderr",
     "output_type": "stream",
     "text": [
      "Experimental speed optimization enabled.\n",
      "\n"
     ]
    },
    {
     "name": "stdout",
     "output_type": "stream",
     "text": [
      "CCI simulation is enabled.\n"
     ]
    },
    {
     "name": "stderr",
     "output_type": "stream",
     "text": [
      "Spatial: only the last layer will be simulated.\n",
      "\n"
     ]
    },
    {
     "name": "stdout",
     "output_type": "stream",
     "text": [
      "Get CIF...100..200..300..400..500..600..700..800..900..1000..1100..1200..1300..1400..1500..Done\n",
      "Get params...Done\n",
      "Simulating...1500..\n",
      "Time spent: 2.10 mins\n",
      "Adding experimental noise...\n",
      "50..100..150..200..250..300..350..400..450..500..550..600..650..700..750..800..850..900..950..1000..1050..1100..1150..1200..1250..1300..1350..1400..1450..1500..Using atac_counts\n"
     ]
    },
    {
     "name": "stderr",
     "output_type": "stream",
     "text": [
      "Time spent: 2.79 mins\n",
      "\n",
      "\n"
     ]
    },
    {
     "name": "stdout",
     "output_type": "stream",
     "text": [
      "Adding batch effects...\n",
      "Generating simulation: sim_4 \n"
     ]
    },
    {
     "name": "stderr",
     "output_type": "stream",
     "text": [
      "Experimental speed optimization enabled.\n",
      "\n"
     ]
    },
    {
     "name": "stdout",
     "output_type": "stream",
     "text": [
      "CCI simulation is enabled.\n"
     ]
    },
    {
     "name": "stderr",
     "output_type": "stream",
     "text": [
      "Spatial: only the last layer will be simulated.\n",
      "\n"
     ]
    },
    {
     "name": "stdout",
     "output_type": "stream",
     "text": [
      "Get CIF...100..200..300..400..500..600..700..800..900..1000..1100..1200..1300..1400..1500..1600..1700..1800..1900..2000..Done\n",
      "Get params...Done\n",
      "Simulating...2000..\n",
      "Time spent: 3.33 mins\n",
      "Adding experimental noise...\n",
      "50..100..150..200..250..300..350..400..450..500..550..600..650..700..750..800..850..900..950..1000..1050..1100..1150..1200..1250..1300..1350..1400..1450..1500..1550..1600..1650..1700..1750..1800..1850..1900..1950..2000..Using atac_counts\n"
     ]
    },
    {
     "name": "stderr",
     "output_type": "stream",
     "text": [
      "Time spent: 4.33 mins\n",
      "\n",
      "\n"
     ]
    },
    {
     "name": "stdout",
     "output_type": "stream",
     "text": [
      "Adding batch effects...\n",
      "Generating simulation: sim_5 \n"
     ]
    },
    {
     "name": "stderr",
     "output_type": "stream",
     "text": [
      "Experimental speed optimization enabled.\n",
      "\n"
     ]
    },
    {
     "name": "stdout",
     "output_type": "stream",
     "text": [
      "CCI simulation is enabled.\n"
     ]
    },
    {
     "name": "stderr",
     "output_type": "stream",
     "text": [
      "Spatial: only the last layer will be simulated.\n",
      "\n"
     ]
    },
    {
     "name": "stdout",
     "output_type": "stream",
     "text": [
      "Get CIF...100..200..300..400..500..600..700..800..900..1000..1100..1200..1300..1400..1500..1600..1700..1800..1900..2000..2100..2200..2300..2400..2500..Done\n",
      "Get params...Done\n",
      "Simulating...2500..\n",
      "Time spent: 4.56 mins\n",
      "Adding experimental noise...\n",
      "50..100..150..200..250..300..350..400..450..500..550..600..650..700..750..800..850..900..950..1000..1050..1100..1150..1200..1250..1300..1350..1400..1450..1500..1550..1600..1650..1700..1750..1800..1850..1900..1950..2000..2050..2100..2150..2200..2250..2300..2350..2400..2450..2500..Using atac_counts\n"
     ]
    },
    {
     "name": "stderr",
     "output_type": "stream",
     "text": [
      "Time spent: 4.95 mins\n",
      "\n",
      "\n"
     ]
    },
    {
     "name": "stdout",
     "output_type": "stream",
     "text": [
      "Adding batch effects...\n",
      "Generating simulation: sim_6 \n"
     ]
    },
    {
     "name": "stderr",
     "output_type": "stream",
     "text": [
      "Experimental speed optimization enabled.\n",
      "\n"
     ]
    },
    {
     "name": "stdout",
     "output_type": "stream",
     "text": [
      "CCI simulation is enabled.\n"
     ]
    },
    {
     "name": "stderr",
     "output_type": "stream",
     "text": [
      "Spatial: only the last layer will be simulated.\n",
      "\n"
     ]
    },
    {
     "name": "stdout",
     "output_type": "stream",
     "text": [
      "Get CIF...100..200..300..400..500..600..700..800..900..1000..1100..1200..1300..1400..1500..1600..1700..1800..1900..2000..2100..2200..2300..2400..2500..2600..2700..2800..2900..3000..Done\n",
      "Get params...Done\n",
      "Simulating...3000..\n",
      "Time spent: 5.63 mins\n",
      "Adding experimental noise...\n",
      "50..100..150..200..250..300..350..400..450..500..550..600..650..700..750..800..850..900..950..1000..1050..1100..1150..1200..1250..1300..1350..1400..1450..1500..1550..1600..1650..1700..1750..1800..1850..1900..1950..2000..2050..2100..2150..2200..2250..2300..2350..2400..2450..2500..2550..2600..2650..2700..2750..2800..2850..2900..2950..3000..Using atac_counts\n"
     ]
    },
    {
     "name": "stderr",
     "output_type": "stream",
     "text": [
      "Time spent: 5.85 mins\n",
      "\n",
      "\n"
     ]
    },
    {
     "name": "stdout",
     "output_type": "stream",
     "text": [
      "Adding batch effects...\n",
      "Generating simulation: sim_7 \n"
     ]
    },
    {
     "name": "stderr",
     "output_type": "stream",
     "text": [
      "Experimental speed optimization enabled.\n",
      "\n"
     ]
    },
    {
     "name": "stdout",
     "output_type": "stream",
     "text": [
      "CCI simulation is enabled.\n"
     ]
    },
    {
     "name": "stderr",
     "output_type": "stream",
     "text": [
      "Spatial: only the last layer will be simulated.\n",
      "\n"
     ]
    },
    {
     "name": "stdout",
     "output_type": "stream",
     "text": [
      "Get CIF...100..200..300..400..500..600..700..800..900..1000..1100..1200..1300..1400..1500..1600..1700..1800..1900..2000..2100..2200..2300..2400..2500..2600..2700..2800..2900..3000..3100..3200..3300..3400..3500..Done\n",
      "Get params...Done\n",
      "Simulating...3500..\n",
      "Time spent: 7.77 mins\n",
      "Adding experimental noise...\n",
      "50..100..150..200..250..300..350..400..450..500..550..600..650..700..750..800..850..900..950..1000..1050..1100..1150..1200..1250..1300..1350..1400..1450..1500..1550..1600..1650..1700..1750..1800..1850..1900..1950..2000..2050..2100..2150..2200..2250..2300..2350..2400..2450..2500..2550..2600..2650..2700..2750..2800..2850..2900..2950..3000..3050..3100..3150..3200..3250..3300..3350..3400..3450..3500..Using atac_counts\n"
     ]
    },
    {
     "name": "stderr",
     "output_type": "stream",
     "text": [
      "Time spent: 7.14 mins\n",
      "\n",
      "\n"
     ]
    },
    {
     "name": "stdout",
     "output_type": "stream",
     "text": [
      "Adding batch effects...\n",
      "Generating simulation: sim_8 \n"
     ]
    },
    {
     "name": "stderr",
     "output_type": "stream",
     "text": [
      "Experimental speed optimization enabled.\n",
      "\n"
     ]
    },
    {
     "name": "stdout",
     "output_type": "stream",
     "text": [
      "CCI simulation is enabled.\n"
     ]
    },
    {
     "name": "stderr",
     "output_type": "stream",
     "text": [
      "Spatial: only the last layer will be simulated.\n",
      "\n"
     ]
    },
    {
     "name": "stdout",
     "output_type": "stream",
     "text": [
      "Get CIF...100..200..300..400..500..600..700..800..900..1000..1100..1200..1300..1400..1500..1600..1700..1800..1900..2000..2100..2200..2300..2400..2500..2600..2700..2800..2900..3000..3100..3200..3300..3400..3500..3600..3700..3800..3900..4000..Done\n",
      "Get params...Done\n",
      "Simulating...4000..\n",
      "Time spent: 8.91 mins\n",
      "Adding experimental noise...\n",
      "50..100..150..200..250..300..350..400..450..500..550..600..650..700..750..800..850..900..950..1000..1050..1100..1150..1200..1250..1300..1350..1400..1450..1500..1550..1600..1650..1700..1750..1800..1850..1900..1950..2000..2050..2100..2150..2200..2250..2300..2350..2400..2450..2500..2550..2600..2650..2700..2750..2800..2850..2900..2950..3000..3050..3100..3150..3200..3250..3300..3350..3400..3450..3500..3550..3600..3650..3700..3750..3800..3850..3900..3950..4000..Using atac_counts\n"
     ]
    },
    {
     "name": "stderr",
     "output_type": "stream",
     "text": [
      "Time spent: 7.33 mins\n",
      "\n",
      "\n"
     ]
    },
    {
     "name": "stdout",
     "output_type": "stream",
     "text": [
      "Adding batch effects...\n",
      "Generating simulation: sim_9 \n"
     ]
    },
    {
     "name": "stderr",
     "output_type": "stream",
     "text": [
      "Experimental speed optimization enabled.\n",
      "\n"
     ]
    },
    {
     "name": "stdout",
     "output_type": "stream",
     "text": [
      "CCI simulation is enabled.\n"
     ]
    },
    {
     "name": "stderr",
     "output_type": "stream",
     "text": [
      "Spatial: only the last layer will be simulated.\n",
      "\n"
     ]
    },
    {
     "name": "stdout",
     "output_type": "stream",
     "text": [
      "Get CIF...100..200..300..400..500..600..700..800..900..1000..1100..1200..1300..1400..1500..1600..1700..1800..1900..2000..2100..2200..2300..2400..2500..2600..2700..2800..2900..3000..3100..3200..3300..3400..3500..3600..3700..3800..3900..4000..4100..4200..4300..4400..4500..Done\n",
      "Get params...Done\n",
      "Simulating...4500..\n",
      "Time spent: 10.90 mins\n",
      "Adding experimental noise...\n",
      "50..100..150..200..250..300..350..400..450..500..550..600..650..700..750..800..850..900..950..1000..1050..1100..1150..1200..1250..1300..1350..1400..1450..1500..1550..1600..1650..1700..1750..1800..1850..1900..1950..2000..2050..2100..2150..2200..2250..2300..2350..2400..2450..2500..2550..2600..2650..2700..2750..2800..2850..2900..2950..3000..3050..3100..3150..3200..3250..3300..3350..3400..3450..3500..3550..3600..3650..3700..3750..3800..3850..3900..3950..4000..4050..4100..4150..4200..4250..4300..4350..4400..4450..4500..Using atac_counts\n"
     ]
    },
    {
     "name": "stderr",
     "output_type": "stream",
     "text": [
      "Time spent: 7.95 mins\n",
      "\n",
      "\n"
     ]
    },
    {
     "name": "stdout",
     "output_type": "stream",
     "text": [
      "Adding batch effects...\n",
      "Generating simulation: sim_10 \n"
     ]
    },
    {
     "name": "stderr",
     "output_type": "stream",
     "text": [
      "Experimental speed optimization enabled.\n",
      "\n"
     ]
    },
    {
     "name": "stdout",
     "output_type": "stream",
     "text": [
      "CCI simulation is enabled.\n"
     ]
    },
    {
     "name": "stderr",
     "output_type": "stream",
     "text": [
      "Spatial: only the last layer will be simulated.\n",
      "\n"
     ]
    },
    {
     "name": "stdout",
     "output_type": "stream",
     "text": [
      "Get CIF...100..200..300..400..500..600..700..800..900..1000..1100..1200..1300..1400..1500..1600..1700..1800..1900..2000..2100..2200..2300..2400..2500..2600..2700..2800..2900..3000..3100..3200..3300..3400..3500..3600..3700..3800..3900..4000..4100..4200..4300..4400..4500..4600..4700..4800..4900..5000..Done\n",
      "Get params...Done\n",
      "Simulating...5000..\n",
      "Time spent: 13.85 mins\n",
      "Adding experimental noise...\n",
      "50..100..150..200..250..300..350..400..450..500..550..600..650..700..750..800..850..900..950..1000..1050..1100..1150..1200..1250..1300..1350..1400..1450..1500..1550..1600..1650..1700..1750..1800..1850..1900..1950..2000..2050..2100..2150..2200..2250..2300..2350..2400..2450..2500..2550..2600..2650..2700..2750..2800..2850..2900..2950..3000..3050..3100..3150..3200..3250..3300..3350..3400..3450..3500..3550..3600..3650..3700..3750..3800..3850..3900..3950..4000..4050..4100..4150..4200..4250..4300..4350..4400..4450..4500..4550..4600..4650..4700..4750..4800..4850..4900..4950..5000..Using atac_counts\n"
     ]
    },
    {
     "name": "stderr",
     "output_type": "stream",
     "text": [
      "Time spent: 9.95 mins\n",
      "\n",
      "\n"
     ]
    },
    {
     "name": "stdout",
     "output_type": "stream",
     "text": [
      "Adding batch effects...\n",
      "All simulations completed!\n"
     ]
    }
   ],
   "source": [
    "library(scMultiSim)\n",
    "library(dplyr)\n",
    "library(reticulate)  # For Python integration to save .h5ad\n",
    "\n",
    "# Load Python's anndata package (must be installed in your Python env)\n",
    "anndata <- import(\"anndata\")\n",
    "\n",
    "# Load GRN parameters\n",
    "data(GRN_params_100, envir = environment())\n",
    "\n",
    "# # Define ligand parameters\n",
    "lig_params <- data.frame(\n",
    "  target    = c(101, 102),\n",
    "  regulator = c(103, 104),\n",
    "  effect    = c(5.2, 5.9)\n",
    ")\n",
    "\n",
    "# Define spatial options function\n",
    "spatial_options <- function(cell_count, layout_type, ...) {\n",
    "  cci_opt <- list(\n",
    "    params = lig_params,\n",
    "    max.neighbors = 6,\n",
    "    start.layer = cell_count,\n",
    "    grid.size = 128,\n",
    "    cell.type.interaction = \"random\"\n",
    "  )\n",
    "  list(\n",
    "    rand.seed = 0,\n",
    "    GRN = GRN_params_100,\n",
    "    num.cells = cell_count,\n",
    "    num.cifs = 60,\n",
    "    num.genes = 200,\n",
    "    cif.sigma = 0.6,\n",
    "    tree = Phyla5(),\n",
    "    diff.cif.fraction = 0.9,\n",
    "    speed.up = TRUE,\n",
    "    cci = c(cci_opt, list(layout = layout_type))\n",
    "  )\n",
    "}\n",
    "\n",
    "# Define cell counts and layouts to test\n",
    "cell_counts <- c(500, 1000, 1500, 2000, 2500, 3000, 3500, 4000, 4500, 5000)\n",
    "layouts <- c(\"enhanced\")\n",
    "\n",
    "# Create all combinations (10 total)\n",
    "sim_params <- expand.grid(\n",
    "  cell_count = cell_counts,\n",
    "  layout_type = layouts\n",
    ")\n",
    "\n",
    "save_results <- function(results, dir_path, sim_name) {\n",
    "  # Create directory if it doesn't exist\n",
    "  if (!dir.exists(dir_path)) {\n",
    "    dir.create(dir_path, recursive = TRUE)\n",
    "  }\n",
    "  \n",
    "  # Save data as CSV (optional)\n",
    "  write.csv(results$counts, file = file.path(dir_path, \"rna_counts.csv\"), row.names = TRUE)\n",
    "  write.csv(results$atac_counts, file = file.path(dir_path, \"atac_counts.csv\"), row.names = TRUE)\n",
    "  write.csv(results$cci_locs, file = file.path(dir_path, \"cci_locs.csv\"), row.names = TRUE)\n",
    "  write.csv(results$cell_meta, file = file.path(dir_path, \"cell_meta.csv\"), row.names = TRUE)\n",
    "  \n",
    "  # Save plots as PDF (higher quality)\n",
    "  pdf(file.path(dir_path, \"tsne_plot.pdf\"), width = 8, height = 6)\n",
    "  plot_tsne(log2(results$counts + 1),\n",
    "           results$cell_meta$pop,\n",
    "           legend = 'pop', plot.name = paste('True RNA Counts Tsne -', sim_name))\n",
    "  dev.off()\n",
    "  \n",
    "  pdf(file.path(dir_path, \"correlation_heatmap.pdf\"), width = 8, height = 6)\n",
    "  plot_gene_module_cor_heatmap(results)\n",
    "  dev.off()\n",
    "\n",
    "  pdf(file.path(dir_path, \"spatial_distribution.pdf\"), width = 8, height = 6)\n",
    "  plot_cell_loc(results, show.arrows = FALSE)\n",
    "  dev.off()\n",
    "  \n",
    "  # Convert cci_locs to matrix format for obsm\n",
    "  spatial_coords <- as.matrix(results$cci_locs)\n",
    "  rownames(spatial_coords) <- rownames(results$cell_meta)\n",
    "  \n",
    "  # Save as H5AD (Python anndata format)\n",
    "  adata_rna <- anndata$AnnData(\n",
    "    X = t(results$counts),  # Cells × Genes\n",
    "    obs = results$cell_meta,\n",
    "    obsm = list(spatial = spatial_coords)  # Add spatial coordinates to obsm\n",
    "  )\n",
    "  adata_rna$write(file.path(dir_path, \"sim_RNA.h5ad\"))\n",
    "  \n",
    "  if (!is.null(results$atac_counts)) {\n",
    "    adata_atac <- anndata$AnnData(\n",
    "      X = t(results$atacseq_data),\n",
    "      obs = results$cell_meta,\n",
    "      obsm = list(spatial = spatial_coords)  # Same spatial coordinates for ATAC\n",
    "    )\n",
    "    adata_atac$write(file.path(dir_path, \"sim_ATAC.h5ad\"))\n",
    "  }\n",
    "}\n",
    "\n",
    "# Generate all simulations\n",
    "for (i in 1:nrow(sim_params)) {\n",
    "  cell_count <- sim_params$cell_count[i]\n",
    "  layout_type <- sim_params$layout_type[i]\n",
    "  \n",
    "  # Create simulation name and directory path\n",
    "  sim_name <- paste0(\"sim_\", i)\n",
    "  dir_path <- file.path(\"scMultiSim_data\", sim_name)\n",
    "\n",
    "  if (!dir.exists(dir_path)) {\n",
    "    dir.create(dir_path, recursive = TRUE)\n",
    "    cat(\"Created directory:\", dir_path, \"\\n\")\n",
    "  }\n",
    "  \n",
    "  cat(\"Generating simulation:\", sim_name, \"\\n\")\n",
    "  \n",
    "  # Run simulation\n",
    "  results <- sim_true_counts(spatial_options(cell_count, layout_type))\n",
    "  add_expr_noise(\n",
    "    results,\n",
    "    # options go here\n",
    "    alpha_mean = 1e4\n",
    "  )\n",
    "  divide_batches(\n",
    "    results,\n",
    "    nbatch = 2,\n",
    "    effect = 1\n",
    "  )\n",
    "  # Save results\n",
    "  save_results(results, dir_path, sim_name)\n",
    "}\n",
    "\n",
    "cat(\"All simulations completed!\\n\")"
   ]
  }
 ],
 "metadata": {
  "kernelspec": {
   "display_name": "R (r-env)",
   "language": "R",
   "name": "r"
  },
  "language_info": {
   "codemirror_mode": "r",
   "file_extension": ".r",
   "mimetype": "text/x-r-source",
   "name": "R",
   "pygments_lexer": "r",
   "version": "4.3.3"
  }
 },
 "nbformat": 4,
 "nbformat_minor": 5
}
